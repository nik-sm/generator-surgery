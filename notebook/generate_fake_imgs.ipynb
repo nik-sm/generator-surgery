{
 "cells": [
  {
   "cell_type": "code",
   "execution_count": null,
   "metadata": {},
   "outputs": [],
   "source": [
    "import torch\n",
    "import numpy as np\n",
    "import matplotlib.pyplot as plt\n",
    "from PIL import Image"
   ]
  },
  {
   "cell_type": "code",
   "execution_count": null,
   "metadata": {},
   "outputs": [],
   "source": [
    "import sys; sys.path.append('..')\n",
    "from model.began import Generator128\n",
    "from utils import load_trained_net"
   ]
  },
  {
   "cell_type": "code",
   "execution_count": null,
   "metadata": {},
   "outputs": [],
   "source": [
    "g = Generator128(64).to('cuda:0')\n",
    "g = load_trained_net(g, '../checkpoints/celeba_began.withskips.bs32.cosine.min=0.25.n_cuts=0/gen_ckpt.49.pt')"
   ]
  },
  {
   "cell_type": "markdown",
   "metadata": {},
   "source": [
    "# Generate images from z_0"
   ]
  },
  {
   "cell_type": "code",
   "execution_count": null,
   "metadata": {},
   "outputs": [],
   "source": [
    "for seed in range(20):\n",
    "    torch.manual_seed(seed)\n",
    "    np.random.seed(seed)\n",
    "    z = torch.randn(64).to('cuda:0')\n",
    "    img = g(z).detach().cpu().squeeze(0).clamp(0,1).numpy().transpose([1,2,0])\n",
    "    img = (img * 255).astype(np.uint8)\n",
    "    Image.fromarray(img).save(f'../images/began_generated/gen_from_layer=0_seed={seed}.png')"
   ]
  },
  {
   "cell_type": "code",
   "execution_count": null,
   "metadata": {},
   "outputs": [],
   "source": [
    "Image.open('../images/began_generated/gen_from_layer=0_seed=3.png')"
   ]
  }
 ],
 "metadata": {
  "kernelspec": {
   "display_name": "Python 3",
   "language": "python",
   "name": "python3"
  },
  "language_info": {
   "codemirror_mode": {
    "name": "ipython",
    "version": 3
   },
   "file_extension": ".py",
   "mimetype": "text/x-python",
   "name": "python",
   "nbconvert_exporter": "python",
   "pygments_lexer": "ipython3",
   "version": "3.6.9"
  }
 },
 "nbformat": 4,
 "nbformat_minor": 4
}
