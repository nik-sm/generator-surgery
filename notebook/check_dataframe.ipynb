{
 "cells": [
  {
   "cell_type": "code",
   "execution_count": 1,
   "metadata": {},
   "outputs": [],
   "source": [
    "import pickle\n",
    "import sys\n",
    "\n",
    "sys.path.append('../')\n",
    "\n",
    "import pandas as pd\n",
    "from utils import parse_baseline_results_folder, parse_results_folder\n",
    "\n",
    "parse_baseline_results_folder('../final_runs/baseline_results')\n",
    "parse_results_folder('../final_runs/results')"
   ]
  },
  {
   "cell_type": "code",
   "execution_count": 2,
   "metadata": {},
   "outputs": [],
   "source": [
    "pd.set_option('display.max_rows', 500)\n",
    "\n",
    "with open('../final_runs/processed_results/df_results.pkl', 'rb') as f:\n",
    "    df = pickle.load(f)"
   ]
  },
  {
   "cell_type": "code",
   "execution_count": 3,
   "metadata": {},
   "outputs": [
    {
     "data": {
      "text/plain": [
       "array(['dcgan_noop', 'began_opt_error_fake_imgs', 'began_cs', 'dcgan_inv',\n",
       "       'beta_vae_cs', 'vanilla_vae_cs', 'began_cs_other_init',\n",
       "       'biggan_inv', 'beta_vae_inv', 'began_noop', 'dcgan_cs',\n",
       "       'vanilla_vae_inv', 'vanilla_vae_noop', 'began_inv', 'biggan_noop',\n",
       "       'beta_vae_noop'], dtype=object)"
      ]
     },
     "execution_count": 3,
     "metadata": {},
     "output_type": "execute_result"
    }
   ],
   "source": [
    "df.model.unique()"
   ]
  },
  {
   "cell_type": "markdown",
   "metadata": {},
   "source": [
    "# 1. Began"
   ]
  },
  {
   "cell_type": "markdown",
   "metadata": {},
   "source": [
    "## 1.1 Began_cs"
   ]
  },
  {
   "cell_type": "code",
   "execution_count": 44,
   "metadata": {},
   "outputs": [],
   "source": [
    "assert df[(df['model'] == 'began_cs')].groupby(['split', 'n_cuts', 'n_measure']).count().image_name.unique() == [100]"
   ]
  },
  {
   "cell_type": "markdown",
   "metadata": {},
   "source": [
    "## 1.2 Began_cs_other_init"
   ]
  },
  {
   "cell_type": "code",
   "execution_count": 49,
   "metadata": {},
   "outputs": [],
   "source": [
    "assert df[(df['model'] == 'began_cs_other_init')].groupby(['split', 'n_cuts', 'n_measure', 'z_init_mode', 'limit']).count().image_name.unique() == [100]"
   ]
  },
  {
   "cell_type": "markdown",
   "metadata": {},
   "source": [
    "## 1.3 Began_inv"
   ]
  },
  {
   "cell_type": "code",
   "execution_count": 51,
   "metadata": {},
   "outputs": [],
   "source": [
    "assert df[(df['model'] == 'began_inv')].groupby(['split', 'n_cuts', 'fm', 'fraction_kept', 'scale_factor']).count().image_name.unique() == [20]"
   ]
  },
  {
   "cell_type": "markdown",
   "metadata": {},
   "source": [
    "## 1.4 Began_noop"
   ]
  },
  {
   "cell_type": "code",
   "execution_count": 52,
   "metadata": {},
   "outputs": [],
   "source": [
    "assert df[(df['model'] == 'began_noop')].groupby(['split', 'n_cuts', 'fm']).count().image_name.unique() == [20]"
   ]
  },
  {
   "cell_type": "markdown",
   "metadata": {},
   "source": [
    "## 1.5 Began_opt_error_fake_imgs"
   ]
  },
  {
   "cell_type": "code",
   "execution_count": 53,
   "metadata": {},
   "outputs": [],
   "source": [
    "assert df[(df['model'] == 'began_opt_error_fake_imgs')].groupby(['split', 'n_cuts', 'fm']).count().image_name.unique() == [20]"
   ]
  },
  {
   "cell_type": "markdown",
   "metadata": {},
   "source": [
    "# 2. Beta_VAE"
   ]
  },
  {
   "cell_type": "markdown",
   "metadata": {},
   "source": [
    "## 2.1 Beta_vae_cs"
   ]
  },
  {
   "cell_type": "code",
   "execution_count": 58,
   "metadata": {},
   "outputs": [],
   "source": [
    "assert df[(df['model'] == 'beta_vae_cs')].groupby(['split', 'n_cuts', 'n_measure']).count().image_name.unique() == [100]"
   ]
  },
  {
   "cell_type": "markdown",
   "metadata": {},
   "source": [
    "## 2.2 Beta_vae_inv"
   ]
  },
  {
   "cell_type": "code",
   "execution_count": 60,
   "metadata": {},
   "outputs": [],
   "source": [
    "assert df[(df['model'] == 'beta_vae_inv')].groupby(['split', 'n_cuts', 'fm', 'fraction_kept', 'scale_factor']).count().image_name.unique() == [20]"
   ]
  },
  {
   "cell_type": "markdown",
   "metadata": {},
   "source": [
    "## 2.3 Beta_vae_noop"
   ]
  },
  {
   "cell_type": "code",
   "execution_count": 63,
   "metadata": {},
   "outputs": [],
   "source": [
    "assert df[(df['model'] == 'beta_vae_noop')].groupby(['split', 'n_cuts', 'fm']).count().image_name.unique() == [20]"
   ]
  },
  {
   "cell_type": "markdown",
   "metadata": {},
   "source": [
    "# 3. Biggan"
   ]
  },
  {
   "cell_type": "markdown",
   "metadata": {},
   "source": [
    "## 3.1 Biggan_inv"
   ]
  },
  {
   "cell_type": "code",
   "execution_count": 67,
   "metadata": {},
   "outputs": [],
   "source": [
    "assert df[(df['model'] == 'biggan_inv')].groupby(['split', 'n_cuts', 'fm', 'fraction_kept', 'scale_factor']).count().image_name.unique() == [20]"
   ]
  },
  {
   "cell_type": "markdown",
   "metadata": {},
   "source": [
    "## 3.3 Biggan_noop"
   ]
  },
  {
   "cell_type": "code",
   "execution_count": 69,
   "metadata": {},
   "outputs": [],
   "source": [
    "assert df[(df['model'] == 'biggan_noop')].groupby(['split', 'n_cuts', 'fm']).count().image_name.unique() == [20]"
   ]
  },
  {
   "cell_type": "markdown",
   "metadata": {},
   "source": [
    "# 4. Dcgan"
   ]
  },
  {
   "cell_type": "markdown",
   "metadata": {},
   "source": [
    "## 4.1 Dcgan_cs"
   ]
  },
  {
   "cell_type": "code",
   "execution_count": 71,
   "metadata": {},
   "outputs": [],
   "source": [
    "assert df[(df['model'] == 'dcgan_cs')].groupby(['split', 'n_cuts', 'n_measure']).count().image_name.unique() == [100]"
   ]
  },
  {
   "cell_type": "markdown",
   "metadata": {},
   "source": [
    "## 4.2 Dcgan_inv"
   ]
  },
  {
   "cell_type": "code",
   "execution_count": 75,
   "metadata": {},
   "outputs": [],
   "source": [
    "assert df[(df['model'] == 'dcgan_inv')].groupby(['split', 'n_cuts', 'fm', 'fraction_kept', 'scale_factor']).count().image_name.unique() == [20]"
   ]
  },
  {
   "cell_type": "markdown",
   "metadata": {},
   "source": [
    "## 4.3 Dcgan_noop"
   ]
  },
  {
   "cell_type": "code",
   "execution_count": 78,
   "metadata": {},
   "outputs": [],
   "source": [
    "assert df[(df['model'] == 'dcgan_noop')].groupby(['split', 'n_cuts', 'fm']).count().image_name.unique() == [20]"
   ]
  },
  {
   "cell_type": "markdown",
   "metadata": {},
   "source": [
    "# 5. Vanilla_VAE"
   ]
  },
  {
   "cell_type": "markdown",
   "metadata": {},
   "source": [
    "## 5.1 Vanilla_vae_cs"
   ]
  },
  {
   "cell_type": "code",
   "execution_count": 83,
   "metadata": {},
   "outputs": [],
   "source": [
    "assert df[(df['model'] == 'vanilla_vae_cs')].groupby(['split', 'n_cuts', 'n_measure']).count().image_name.unique() == [100]"
   ]
  },
  {
   "cell_type": "markdown",
   "metadata": {},
   "source": [
    "## 5.2 Vanilla_vae_inv"
   ]
  },
  {
   "cell_type": "code",
   "execution_count": 85,
   "metadata": {},
   "outputs": [],
   "source": [
    "assert df[(df['model'] == 'vanilla_vae_inv')].groupby(['split', 'n_cuts', 'fm', 'fraction_kept', 'scale_factor']).count().image_name.unique() == [20]"
   ]
  },
  {
   "cell_type": "markdown",
   "metadata": {},
   "source": [
    "## 5.3 Vanilla_vae_noop"
   ]
  },
  {
   "cell_type": "code",
   "execution_count": 87,
   "metadata": {},
   "outputs": [],
   "source": [
    "assert df[(df['model'] == 'vanilla_vae_noop')].groupby(['split', 'n_cuts', 'fm']).count().image_name.unique() == [20]"
   ]
  }
 ],
 "metadata": {
  "kernelspec": {
   "display_name": "Python 3",
   "language": "python",
   "name": "python3"
  },
  "language_info": {
   "codemirror_mode": {
    "name": "ipython",
    "version": 3
   },
   "file_extension": ".py",
   "mimetype": "text/x-python",
   "name": "python",
   "nbconvert_exporter": "python",
   "pygments_lexer": "ipython3",
   "version": "3.7.6"
  }
 },
 "nbformat": 4,
 "nbformat_minor": 4
}
