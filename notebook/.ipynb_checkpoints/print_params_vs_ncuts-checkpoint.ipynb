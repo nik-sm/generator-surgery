{
 "cells": [
  {
   "cell_type": "code",
   "execution_count": null,
   "metadata": {},
   "outputs": [],
   "source": [
    "import torch\n",
    "import numpy as np\n",
    "import matplotlib.pyplot as plt\n",
    "from PIL import Image\n",
    "import sys; sys.path.append('..')\n",
    "from model.began import Generator128\n",
    "from utils import load_trained_net\n",
    "from model.vae import VAE\n",
    "from model.biggan import BigGanSkip\n",
    "from model.dcgan import Generator as dcgan_generator"
   ]
  },
  {
   "cell_type": "code",
   "execution_count": null,
   "metadata": {},
   "outputs": [],
   "source": [
    "def print_params_info(model):\n",
    "    print('#'*30)\n",
    "    print(model)\n",
    "\n",
    "    g = get_model(model)\n",
    "    print('idx','latent_dim','percent_weights_cut', 'weights_cut_so_far', 'weights_total')\n",
    "    num_params_so_far = 0\n",
    "    num_params_total = sum(p.numel() for p in g.parameters() if p.requires_grad)\n",
    "    if model == 'biggan':\n",
    "        num_params_total -= 128000 # We don't use the \"embeddings\" layer\n",
    "    for idx, (z1, z2) in enumerate(g.input_shapes[:-1]):\n",
    "        z2_dim = np.prod(z2) if len(z2) > 0 else 0\n",
    "        print(idx, np.prod(z1) + z2_dim, f'{num_params_so_far / num_params_total:0.2f}', num_params_so_far, num_params_total)\n",
    "        if model in ['began', 'vae']:\n",
    "            num_params_so_far += sum(p.numel() for p in g.layers[idx].parameters() if p.requires_grad)\n",
    "        elif model == 'dcgan':\n",
    "            num_params_so_far += sum(p.numel() for p in g.main[idx].parameters() if p.requires_grad)\n",
    "        elif model == 'biggan':\n",
    "            if idx == 0:\n",
    "                num_params_so_far += sum(p.numel() for p in g.biggan.generator.gen_z.parameters() if p.requires_grad)\n",
    "            elif idx == len(g.input_shapes) - 2:\n",
    "                num_params_so_far += sum(p.numel() for p in g.biggan.generator.bn.parameters() if p.requires_grad)\n",
    "                num_params_so_far += sum(p.numel() for p in g.biggan.generator.relu.parameters() if p.requires_grad)\n",
    "                num_params_so_far += sum(p.numel() for p in g.biggan.generator.conv_to_rgb.parameters() if p.requires_grad)\n",
    "                num_params_so_far += sum(p.numel() for p in g.biggan.generator.tanh.parameters() if p.requires_grad)\n",
    "            else:\n",
    "                num_params_so_far += sum(p.numel() for p in g.biggan.generator.layers[idx-1].parameters() if p.requires_grad)\n",
    "        else:\n",
    "            raise"
   ]
  },
  {
   "cell_type": "code",
   "execution_count": null,
   "metadata": {},
   "outputs": [],
   "source": [
    "def get_model(name):\n",
    "    if model == 'began':\n",
    "        g = Generator128(64).to('cuda:0')\n",
    "        g = load_trained_net(g, '../checkpoints/celeba_began.withskips.bs32.cosine.min=0.25.n_cuts=0/gen_ckpt.49.pt')\n",
    "    elif model == 'vae':\n",
    "        g = VAE().to('cuda:0')\n",
    "        g.load_state_dict(torch.load('../vae_checkpoints/vae_bs=128_beta=1.0/epoch_19.pt'))\n",
    "        g = g.decoder\n",
    "    elif model == 'biggan':\n",
    "        g = BigGanSkip().to('cuda:0')\n",
    "    elif model == 'dcgan':\n",
    "        g = dcgan_generator().to('cuda:0')  \n",
    "        g.load_state_dict(torch.load('../dcgan_checkpoints/netG.epoch_24.n_cuts_0.bs_64.b1_0.5.lr_0.0002.pt'))\n",
    "    else:\n",
    "        raise\n",
    "    return g"
   ]
  },
  {
   "cell_type": "code",
   "execution_count": null,
   "metadata": {},
   "outputs": [],
   "source": [
    "for model in ['began', 'vae', 'dcgan', 'biggan']:\n",
    "    print_params_info(model)"
   ]
  }
 ],
 "metadata": {
  "kernelspec": {
   "display_name": "Python 3",
   "language": "python",
   "name": "python3"
  },
  "language_info": {
   "codemirror_mode": {
    "name": "ipython",
    "version": 3
   },
   "file_extension": ".py",
   "mimetype": "text/x-python",
   "name": "python",
   "nbconvert_exporter": "python",
   "pygments_lexer": "ipython3",
   "version": "3.6.9"
  }
 },
 "nbformat": 4,
 "nbformat_minor": 4
}
