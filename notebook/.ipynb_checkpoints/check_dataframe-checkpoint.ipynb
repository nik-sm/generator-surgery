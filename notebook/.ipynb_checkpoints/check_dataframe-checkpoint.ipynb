{
 "cells": [
  {
   "cell_type": "code",
   "execution_count": null,
   "metadata": {},
   "outputs": [],
   "source": [
    "import pickle\n",
    "import sys\n",
    "\n",
    "sys.path.append('../')\n",
    "\n",
    "import pandas as pd\n",
    "from utils import parse_baseline_results_folder, parse_results_folder\n",
    "\n",
    "parse_baseline_results_folder('../final_runs/baseline_results')\n",
    "parse_results_folder('../final_runs/results')"
   ]
  },
  {
   "cell_type": "code",
   "execution_count": null,
   "metadata": {},
   "outputs": [],
   "source": [
    "pd.set_option('display.max_rows', 500)\n",
    "\n",
    "with open('../final_runs/processed_results/df_results.pkl', 'rb') as f:\n",
    "    df = pickle.load(f)"
   ]
  },
  {
   "cell_type": "code",
   "execution_count": null,
   "metadata": {},
   "outputs": [],
   "source": [
    "df.model.unique()"
   ]
  },
  {
   "cell_type": "markdown",
   "metadata": {},
   "source": [
    "# Began"
   ]
  },
  {
   "cell_type": "code",
   "execution_count": null,
   "metadata": {
    "jupyter": {
     "source_hidden": true
    }
   },
   "outputs": [],
   "source": [
    "df1 = df[df['model'] == 'began']\n",
    "\n",
    "# df1 = df[(df['model'] == \"began\") & (df['n_cuts'].isin([0,1,2,3,5,7,9,11,13]))]\n",
    "# df1 = df1[((df1['fm'] == 'NoOp') & (df1['n_steps'] == 100) & (df1['z_lr'] == 1)) | \\\n",
    "#          ((df1['fm'] != 'NoOp') & (df1['n_steps'] == 25) & (df1['z_lr'] == 1))]"
   ]
  },
  {
   "cell_type": "code",
   "execution_count": null,
   "metadata": {
    "jupyter": {
     "source_hidden": true
    }
   },
   "outputs": [],
   "source": [
    "# Should be 20 images in each group\n",
    "df1.groupby(['model', 'split', 'n_cuts', 'n_steps', 'z_lr', 'fm', 'fraction_kept', 'scale_factor']).count()"
   ]
  },
  {
   "cell_type": "markdown",
   "metadata": {},
   "source": [
    "# Began CS Other Init"
   ]
  },
  {
   "cell_type": "code",
   "execution_count": null,
   "metadata": {
    "jupyter": {
     "source_hidden": true
    }
   },
   "outputs": [],
   "source": [
    "df1 = df[df['model'] == 'began_cs_other_init']\n",
    "\n",
    "# df1 = df[(df['model'] == \"began_cs_other_init\") & (df['n_cuts'].isin([1,2,3]))]\n",
    "# df1 = df1[(df1['n_steps'] == 25) & (df1['z_lr'] == 1)]"
   ]
  },
  {
   "cell_type": "code",
   "execution_count": null,
   "metadata": {
    "jupyter": {
     "source_hidden": true
    }
   },
   "outputs": [],
   "source": [
    "# Should be 100 images in each group\n",
    "df1.groupby(['model', 'split', 'n_cuts', 'n_steps', 'z_lr', 'n_measure', 'z_init_mode', 'limit']).count()"
   ]
  },
  {
   "cell_type": "markdown",
   "metadata": {},
   "source": [
    "# Began CS"
   ]
  },
  {
   "cell_type": "code",
   "execution_count": null,
   "metadata": {
    "jupyter": {
     "source_hidden": true
    }
   },
   "outputs": [],
   "source": [
    "df1 = df[df['model'] == 'began_cs']\n",
    "\n",
    "# df1 = df[(df['model'] == \"began_cs\") & (df['n_cuts'].isin([0,1,2,3,5,7,9,11,13]))]\n",
    "# df1 = df1[(df1['n_steps'] == 25) & (df1['z_lr'] == 1)]"
   ]
  },
  {
   "cell_type": "code",
   "execution_count": null,
   "metadata": {
    "jupyter": {
     "source_hidden": true
    }
   },
   "outputs": [],
   "source": [
    "# Should be 100 images in each group\n",
    "df1.groupby(['model', 'split', 'n_cuts', 'n_steps', 'z_lr', 'n_measure']).count()"
   ]
  },
  {
   "cell_type": "markdown",
   "metadata": {},
   "source": [
    "# Biggan"
   ]
  },
  {
   "cell_type": "code",
   "execution_count": null,
   "metadata": {},
   "outputs": [],
   "source": [
    "df1 = df[df['model'] == 'biggan']\n",
    "\n",
    "# df1 = df[(df['model'] == \"biggan\") & (df['n_cuts'].isin([0,5,7,9]))]\n",
    "# df1 = df1[((df1['fm'] == 'NoOp') & (df1['n_steps'] == 200) & (df1['z_lr'] == 1.5)) | \\\n",
    "#          ((df1['fm'] != 'NoOp') & (df1['n_steps'] == 25) & (df1['z_lr'] == 1.5))]"
   ]
  },
  {
   "cell_type": "code",
   "execution_count": null,
   "metadata": {},
   "outputs": [],
   "source": [
    "# Should be 20 images in each group\n",
    "df1.groupby(['model', 'split', 'n_cuts', 'n_steps', 'z_lr', 'fm', 'fraction_kept', 'scale_factor']).count()"
   ]
  },
  {
   "cell_type": "markdown",
   "metadata": {},
   "source": [
    "# Dcgan"
   ]
  },
  {
   "cell_type": "code",
   "execution_count": null,
   "metadata": {
    "jupyter": {
     "source_hidden": true
    }
   },
   "outputs": [],
   "source": [
    "df1 = df[(df['model'] == \"dcgan\")]\n",
    "\n",
    "# df1 = df[(df['model'] == \"dcgan\") & (df['n_cuts'].isin([0,1,2,3,4]))]\n",
    "# df1 = df1[((df1['fm'] == 'NoOp') & (df1['n_steps'] == 100) & (df1['z_lr'] == 1)) | \\\n",
    "#          ((df1['fm'] != 'NoOp') & (df1['n_steps'] == 25) & (df1['z_lr'] == 0.1))]"
   ]
  },
  {
   "cell_type": "code",
   "execution_count": null,
   "metadata": {
    "jupyter": {
     "source_hidden": true
    }
   },
   "outputs": [],
   "source": [
    "# Should be 20 images in each group\n",
    "df1.groupby(['model', 'split', 'n_cuts', 'n_steps', 'z_lr', 'fm', 'fraction_kept', 'scale_factor']).count()"
   ]
  },
  {
   "cell_type": "markdown",
   "metadata": {},
   "source": [
    "# Dcgan CS"
   ]
  },
  {
   "cell_type": "code",
   "execution_count": null,
   "metadata": {
    "jupyter": {
     "source_hidden": true
    }
   },
   "outputs": [],
   "source": [
    "df1 = df[df['model'] == 'dcgan_cs']\n",
    "# df1 = df[(df['model'] == \"dcgan_cs\") & (df['n_cuts'].isin([0,1,2,3,4]))]\n",
    "# df1 = df1[(df1['n_steps'] == 25) & (df1['z_lr'] == 0.1)]"
   ]
  },
  {
   "cell_type": "code",
   "execution_count": null,
   "metadata": {
    "jupyter": {
     "source_hidden": true
    }
   },
   "outputs": [],
   "source": [
    "# Should be 100 images in each group\n",
    "df1.groupby(['model', 'split', 'n_cuts', 'n_steps', 'z_lr', 'n_measure']).count()"
   ]
  },
  {
   "cell_type": "markdown",
   "metadata": {},
   "source": [
    "# Vanilla VAE"
   ]
  },
  {
   "cell_type": "code",
   "execution_count": null,
   "metadata": {
    "jupyter": {
     "source_hidden": true
    }
   },
   "outputs": [],
   "source": [
    "df1 = df[(df['model'] == \"vanilla_vae\")]\n",
    "\n",
    "# df1 = df[(df['model'] == \"vanilla_vae\") & (df['n_cuts'].isin([0,1,2,3,4,5]))]\n",
    "# df1 = df1[((df1['fm'] == 'NoOp') & (df1['n_steps'] == 40) & (df1['z_lr'] == 1)) | \\\n",
    "#          ((df1['fm'] != 'NoOp') & (df1['n_steps'] == 25) & (df1['z_lr'] == 1))]"
   ]
  },
  {
   "cell_type": "code",
   "execution_count": null,
   "metadata": {
    "jupyter": {
     "source_hidden": true
    }
   },
   "outputs": [],
   "source": [
    "# Should be 20 images in each group\n",
    "df1.groupby(['model', 'split', 'n_cuts', 'n_steps', 'z_lr', 'fm', 'fraction_kept', 'scale_factor']).count()"
   ]
  },
  {
   "cell_type": "markdown",
   "metadata": {},
   "source": [
    "# Vanilla VAE CS"
   ]
  },
  {
   "cell_type": "code",
   "execution_count": null,
   "metadata": {
    "jupyter": {
     "source_hidden": true
    }
   },
   "outputs": [],
   "source": [
    "df1 = df[(df['model'] == \"vanilla_vae_cs\")]\n",
    "\n",
    "# df1 = df[(df['model'] == \"vanilla_vae_cs\") & (df['n_cuts'].isin([0,1,2,3,4,5]))]\n",
    "# df1 = df1[(df1['n_steps'] == 25) & (df1['z_lr'] == 1)]"
   ]
  },
  {
   "cell_type": "code",
   "execution_count": null,
   "metadata": {
    "jupyter": {
     "source_hidden": true
    }
   },
   "outputs": [],
   "source": [
    "# Should be 100 images in each group\n",
    "df1.groupby(['model', 'split', 'n_cuts', 'n_steps', 'z_lr', 'n_measure']).count()"
   ]
  },
  {
   "cell_type": "markdown",
   "metadata": {},
   "source": [
    "# Beta VAE"
   ]
  },
  {
   "cell_type": "code",
   "execution_count": null,
   "metadata": {
    "jupyter": {
     "source_hidden": true
    }
   },
   "outputs": [],
   "source": [
    "df1 = df[(df['model'] == \"beta_vae\")]\n",
    "\n",
    "# df1 = df[(df['model'] == \"beta_vae\") & (df['n_cuts'].isin([0,1,2,3,4,5]))]\n",
    "# df1 = df1[((df1['fm'] == 'NoOp') & (df1['n_steps'] == 40) & (df1['z_lr'] == 1)) | \\\n",
    "#          ((df1['fm'] != 'NoOp') & (df1['n_steps'] == 25) & (df1['z_lr'] == 1))]"
   ]
  },
  {
   "cell_type": "code",
   "execution_count": null,
   "metadata": {
    "jupyter": {
     "source_hidden": true
    }
   },
   "outputs": [],
   "source": [
    "# Should be 20 images in each group\n",
    "df1.groupby(['model', 'split', 'n_cuts', 'n_steps', 'z_lr', 'fm', 'fraction_kept', 'scale_factor']).count()"
   ]
  },
  {
   "cell_type": "markdown",
   "metadata": {},
   "source": [
    "# Beta VAE CS"
   ]
  },
  {
   "cell_type": "code",
   "execution_count": null,
   "metadata": {
    "jupyter": {
     "source_hidden": true
    }
   },
   "outputs": [],
   "source": [
    "df1 = df[(df['model'] == \"beta_vae_cs\")]\n",
    "\n",
    "# df1 = df[(df['model'] == \"beta_vae_cs\") & (df['n_cuts'].isin([0,1,2,3,4,5]))]\n",
    "# df1 = df1[(df1['n_steps'] == 25) & (df1['z_lr'] == 1))]"
   ]
  },
  {
   "cell_type": "code",
   "execution_count": null,
   "metadata": {
    "jupyter": {
     "source_hidden": true
    }
   },
   "outputs": [],
   "source": [
    "# Should be 100 images in each group\n",
    "df1.groupby(['model', 'split', 'n_cuts', 'n_steps', 'z_lr', 'n_measure']).count()"
   ]
  }
 ],
 "metadata": {
  "kernelspec": {
   "display_name": "Python 3",
   "language": "python",
   "name": "python3"
  },
  "language_info": {
   "codemirror_mode": {
    "name": "ipython",
    "version": 3
   },
   "file_extension": ".py",
   "mimetype": "text/x-python",
   "name": "python",
   "nbconvert_exporter": "python",
   "pygments_lexer": "ipython3",
   "version": "3.6.9"
  }
 },
 "nbformat": 4,
 "nbformat_minor": 4
}
